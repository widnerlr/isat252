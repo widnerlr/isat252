{
 "cells": [
  {
   "cell_type": "markdown",
   "metadata": {},
   "source": [
    "## Download Census Data ##"
   ]
  },
  {
   "cell_type": "code",
   "execution_count": 7,
   "metadata": {},
   "outputs": [
    {
     "name": "stdout",
     "output_type": "stream",
     "text": [
      "['B01001_001E', 'NAME', 'state', 'county']\n",
      "The Fairfax County, Virginia has 1132887 pop\n"
     ]
    }
   ],
   "source": [
    "from urllib import request\n",
    "\n",
    "import json\n",
    "\n",
    "from pprint import pprint\n",
    "\n",
    "\n",
    "\n",
    "\n",
    "\n",
    "census_api_key = '' #get your key from https://api.census.gov/data/key_signup.html\n",
    "\n",
    "\n",
    "\n",
    "\n",
    "\n",
    "url_str = 'https://api.census.gov/data/2016/acs/acs5?get=B01001_001E,NAME&for=county:*&in=state:51&key='+census_api_key # create the url of your census data\n",
    "\n",
    "\n",
    "\n",
    "response = request.urlopen(url_str) # read the response into computer\n",
    "\n",
    "\n",
    "\n",
    "html_str = response.read().decode(\"utf-8\") # convert the response into string\n",
    "\n",
    "if (html_str):\n",
    "\n",
    "    json_data = json.loads(html_str) # convert the string into json\n",
    "\n",
    "    print (json_data[0])\n",
    "\n",
    "    for v1,name,state,county in json_data[1:]:\n",
    "\n",
    "        print (v1,name,state,county )"
   ]
  },
  {
   "cell_type": "markdown",
   "metadata": {},
   "source": [
    "# 3.1"
   ]
  },
  {
   "cell_type": "code",
   "execution_count": 16,
   "metadata": {},
   "outputs": [
    {
     "name": "stdout",
     "output_type": "stream",
     "text": [
      "['B01001_001E', 'B01001_002E', 'NAME', 'state', 'county']\n",
      "The Sussex County, Virginia has 0.6575470894059491 pop\n"
     ]
    }
   ],
   "source": [
    "from urllib import request\n",
    "\n",
    "import json\n",
    "\n",
    "from pprint import pprint\n",
    "\n",
    "census_api_key = '3d3e8c1ef2a230050d3c1302590f8e3a07d97a84' #get your key from https://api.census.gov/data/key_signup.html\n",
    "\n",
    "\n",
    "url_str = 'https://api.census.gov/data/2016/acs/acs5?get=B01001_001E,B01001_002E,NAME&for=county:*&in=state:51&key='+census_api_key # create the url of your census data\n",
    "\n",
    "response = request.urlopen(url_str) # read the response into computer\n",
    "max_pop=0\n",
    "max_count=''\n",
    "\n",
    "html_str = response.read().decode(\"utf-8\") # convert the response into string\n",
    "\n",
    "if (html_str):\n",
    "\n",
    "    json_data = json.loads(html_str) # convert the string into json\n",
    "\n",
    "    print (json_data[0])\n",
    "\n",
    "    for v1,v2, name,state,county in json_data[1:]:\n",
    "        if max_pop <= int(v2)/int(v1):\n",
    "            max_pop = int (v2)/ int(v1)\n",
    "            max_county = name\n",
    "        \n",
    "    print (\"The {} has {} pop\".format(max_county,max_pop))"
   ]
  },
  {
   "cell_type": "code",
   "execution_count": null,
   "metadata": {},
   "outputs": [],
   "source": []
  }
 ],
 "metadata": {
  "kernelspec": {
   "display_name": "conda_python3",
   "language": "python",
   "name": "conda_python3"
  },
  "language_info": {
   "codemirror_mode": {
    "name": "ipython",
    "version": 3
   },
   "file_extension": ".py",
   "mimetype": "text/x-python",
   "name": "python",
   "nbconvert_exporter": "python",
   "pygments_lexer": "ipython3",
   "version": "3.6.5"
  }
 },
 "nbformat": 4,
 "nbformat_minor": 4
}
